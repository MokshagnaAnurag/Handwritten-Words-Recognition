{
  "nbformat": 4,
  "nbformat_minor": 0,
  "metadata": {
    "colab": {
      "provenance": [],
      "authorship_tag": "ABX9TyOdOaGFm+y+NFBFYTeS2otP",
      "include_colab_link": true
    },
    "kernelspec": {
      "name": "python3",
      "display_name": "Python 3"
    },
    "language_info": {
      "name": "python"
    }
  },
  "cells": [
    {
      "cell_type": "markdown",
      "metadata": {
        "id": "view-in-github",
        "colab_type": "text"
      },
      "source": [
        "<a href=\"https://colab.research.google.com/github/MokshagnaAnurag/Handwritten-Words-Recognition/blob/main/Handwritten_Words_Recongnition.ipynb\" target=\"_parent\"><img src=\"https://colab.research.google.com/assets/colab-badge.svg\" alt=\"Open In Colab\"/></a>"
      ]
    },
    {
      "cell_type": "code",
      "execution_count": 1,
      "metadata": {
        "colab": {
          "base_uri": "https://localhost:8080/"
        },
        "id": "-emk9ZSEkKme",
        "outputId": "1d4bdbcb-46af-42bf-f262-9b163dc8fc5f"
      },
      "outputs": [
        {
          "output_type": "stream",
          "name": "stdout",
          "text": [
            "Collecting rarfile\n",
            "  Downloading rarfile-4.2-py3-none-any.whl.metadata (4.4 kB)\n",
            "Downloading rarfile-4.2-py3-none-any.whl (29 kB)\n",
            "Installing collected packages: rarfile\n",
            "Successfully installed rarfile-4.2\n"
          ]
        }
      ],
      "source": [
        "pip install rarfile\n"
      ]
    },
    {
      "cell_type": "code",
      "source": [
        "import rarfile\n",
        "import os\n",
        "rar_path = \"/content/data.rar\"\n",
        "extract_path = \"/content/data\"\n",
        "with rarfile.RarFile(rar_path, 'r') as rf:\n",
        "    rf.extractall(extract_path)\n",
        "\n",
        "print(f\"Files extracted to: {extract_path}\")"
      ],
      "metadata": {
        "colab": {
          "base_uri": "https://localhost:8080/"
        },
        "id": "w3czRXLDk3nC",
        "outputId": "2d559f3c-6a97-4ce8-8a81-2535025dc9eb"
      },
      "execution_count": 6,
      "outputs": [
        {
          "output_type": "stream",
          "name": "stdout",
          "text": [
            "Files extracted to: /content/data\n"
          ]
        }
      ]
    },
    {
      "cell_type": "code",
      "source": [
        "import os\n",
        "import cv2\n",
        "import numpy as np\n",
        "\n",
        "def load_images_and_labels(data_path):\n",
        "    images = []\n",
        "    labels = []\n",
        "\n",
        "    for root, dirs, files in os.walk(data_path):\n",
        "        for file in files:\n",
        "            if file.endswith(('.png', '.jpg', '.jpeg')):\n",
        "                img_path = os.path.join(root, file)\n",
        "                img = cv2.imread(img_path, cv2.IMREAD_GRAYSCALE)\n",
        "                img = cv2.resize(img, (64, 64))\n",
        "\n",
        "                label = os.path.basename(root)\n",
        "\n",
        "                images.append(img)\n",
        "                labels.append(label)\n",
        "\n",
        "\n",
        "    images = np.array(images, dtype='float32').reshape(-1, 64, 64, 1)\n",
        "    labels = np.array(labels)\n",
        "\n",
        "    return images, labels\n",
        "data_path = \"/content/data\"\n",
        "X, y = load_images_and_labels(data_path)\n",
        "print(f\"Loaded {len(X)} images with {len(set(y))} unique labels.\")\n"
      ],
      "metadata": {
        "colab": {
          "base_uri": "https://localhost:8080/"
        },
        "id": "b46U2D6BlKvh",
        "outputId": "cee99c40-0519-496e-8426-032ab2ebac0f"
      },
      "execution_count": 36,
      "outputs": [
        {
          "output_type": "stream",
          "name": "stdout",
          "text": [
            "Loaded 4355 images with 12 unique labels.\n"
          ]
        }
      ]
    },
    {
      "cell_type": "code",
      "source": [
        "from sklearn.preprocessing import LabelEncoder\n",
        "from tensorflow.keras.utils import to_categorical\n",
        "X = X / 255\n",
        "label_encoder = LabelEncoder()\n",
        "y_encoded = label_encoder.fit_transform(y)\n",
        "y_categorical = to_categorical(y_encoded)\n",
        "\n",
        "print(f\"Label mapping: {dict(zip(label_encoder.classes_, range(len(label_encoder.classes_))))}\")"
      ],
      "metadata": {
        "colab": {
          "base_uri": "https://localhost:8080/"
        },
        "id": "vgOWFZYqmArg",
        "outputId": "86c74567-1d66-4470-9cd1-b3c35f1d27be"
      },
      "execution_count": 19,
      "outputs": [
        {
          "output_type": "stream",
          "name": "stdout",
          "text": [
            "Label mapping: {'BOXING': 0, 'FIVE': 1, 'JUMP': 2, 'QUICKLY': 3, 'THE': 4, 'WIZARDS': 5, 'boxing': 6, 'five': 7, 'jump': 8, 'quickly': 9, 'the': 10, 'wizards': 11}\n"
          ]
        }
      ]
    },
    {
      "cell_type": "code",
      "source": [
        "from tensorflow.keras.models import Sequential\n",
        "from tensorflow.keras.layers import Conv2D, MaxPooling2D, Flatten, Dense, Dropout\n",
        "\n",
        "def create_model(input_shape, num_classes):\n",
        "    model = Sequential()\n",
        "    model.add(Conv2D(32, (3, 3), activation='relu', input_shape=input_shape))\n",
        "    model.add(MaxPooling2D((2, 2)))\n",
        "    model.add(Dropout(0.2))\n",
        "    model.add(Conv2D(64, (3, 3), activation='relu'))\n",
        "    model.add(MaxPooling2D((2, 2)))\n",
        "    model.add(Dropout(0.3))\n",
        "    model.add(Flatten())\n",
        "    model.add(Dense(128, activation='relu'))\n",
        "    model.add(Dropout(0.5))\n",
        "    model.add(Dense(num_classes, activation='softmax'))\n",
        "    model.compile(optimizer='adam',\n",
        "                  loss='categorical_crossentropy',\n",
        "                  metrics=['accuracy'])\n",
        "    return model\n",
        "input_shape = X_train.shape[1:]\n",
        "num_classes = y_train.shape[1]\n",
        "\n",
        "model = create_model(input_shape, num_classes)\n",
        "history = model.fit(X_train, y_train,\n",
        "                    validation_data=(X_test, y_test),\n",
        "                    batch_size=32,\n",
        "                    epochs=20,\n",
        "                    verbose=1)\n"
      ],
      "metadata": {
        "colab": {
          "base_uri": "https://localhost:8080/"
        },
        "id": "5YB3Hj2cmDYS",
        "outputId": "e163db19-ab34-4335-95e2-d85048fce9e2"
      },
      "execution_count": 26,
      "outputs": [
        {
          "output_type": "stream",
          "name": "stdout",
          "text": [
            "Epoch 1/20\n",
            "\u001b[1m109/109\u001b[0m \u001b[32m━━━━━━━━━━━━━━━━━━━━\u001b[0m\u001b[37m\u001b[0m \u001b[1m22s\u001b[0m 189ms/step - accuracy: 0.0902 - loss: 2.4823 - val_accuracy: 0.0987 - val_loss: 2.4734\n",
            "Epoch 2/20\n",
            "\u001b[1m109/109\u001b[0m \u001b[32m━━━━━━━━━━━━━━━━━━━━\u001b[0m\u001b[37m\u001b[0m \u001b[1m41s\u001b[0m 193ms/step - accuracy: 0.0873 - loss: 2.4756 - val_accuracy: 0.1114 - val_loss: 2.4735\n",
            "Epoch 3/20\n",
            "\u001b[1m109/109\u001b[0m \u001b[32m━━━━━━━━━━━━━━━━━━━━\u001b[0m\u001b[37m\u001b[0m \u001b[1m42s\u001b[0m 205ms/step - accuracy: 0.0885 - loss: 2.4747 - val_accuracy: 0.0987 - val_loss: 2.4672\n",
            "Epoch 4/20\n",
            "\u001b[1m109/109\u001b[0m \u001b[32m━━━━━━━━━━━━━━━━━━━━\u001b[0m\u001b[37m\u001b[0m \u001b[1m40s\u001b[0m 200ms/step - accuracy: 0.0995 - loss: 2.4758 - val_accuracy: 0.0987 - val_loss: 2.4672\n",
            "Epoch 5/20\n",
            "\u001b[1m109/109\u001b[0m \u001b[32m━━━━━━━━━━━━━━━━━━━━\u001b[0m\u001b[37m\u001b[0m \u001b[1m42s\u001b[0m 208ms/step - accuracy: 0.0905 - loss: 2.4755 - val_accuracy: 0.0987 - val_loss: 2.4679\n",
            "Epoch 6/20\n",
            "\u001b[1m109/109\u001b[0m \u001b[32m━━━━━━━━━━━━━━━━━━━━\u001b[0m\u001b[37m\u001b[0m \u001b[1m40s\u001b[0m 202ms/step - accuracy: 0.0874 - loss: 2.4746 - val_accuracy: 0.0987 - val_loss: 2.4665\n",
            "Epoch 7/20\n",
            "\u001b[1m109/109\u001b[0m \u001b[32m━━━━━━━━━━━━━━━━━━━━\u001b[0m\u001b[37m\u001b[0m \u001b[1m41s\u001b[0m 203ms/step - accuracy: 0.0936 - loss: 2.4775 - val_accuracy: 0.0987 - val_loss: 2.4674\n",
            "Epoch 8/20\n",
            "\u001b[1m109/109\u001b[0m \u001b[32m━━━━━━━━━━━━━━━━━━━━\u001b[0m\u001b[37m\u001b[0m \u001b[1m20s\u001b[0m 188ms/step - accuracy: 0.0937 - loss: 2.4698 - val_accuracy: 0.0987 - val_loss: 2.4687\n",
            "Epoch 9/20\n",
            "\u001b[1m109/109\u001b[0m \u001b[32m━━━━━━━━━━━━━━━━━━━━\u001b[0m\u001b[37m\u001b[0m \u001b[1m22s\u001b[0m 199ms/step - accuracy: 0.0943 - loss: 2.4682 - val_accuracy: 0.0987 - val_loss: 2.4701\n",
            "Epoch 10/20\n",
            "\u001b[1m109/109\u001b[0m \u001b[32m━━━━━━━━━━━━━━━━━━━━\u001b[0m\u001b[37m\u001b[0m \u001b[1m21s\u001b[0m 192ms/step - accuracy: 0.1028 - loss: 2.4732 - val_accuracy: 0.0987 - val_loss: 2.4670\n",
            "Epoch 11/20\n",
            "\u001b[1m109/109\u001b[0m \u001b[32m━━━━━━━━━━━━━━━━━━━━\u001b[0m\u001b[37m\u001b[0m \u001b[1m40s\u001b[0m 186ms/step - accuracy: 0.0939 - loss: 2.4680 - val_accuracy: 0.0987 - val_loss: 2.4689\n",
            "Epoch 12/20\n",
            "\u001b[1m109/109\u001b[0m \u001b[32m━━━━━━━━━━━━━━━━━━━━\u001b[0m\u001b[37m\u001b[0m \u001b[1m23s\u001b[0m 207ms/step - accuracy: 0.0985 - loss: 2.4747 - val_accuracy: 0.0987 - val_loss: 2.4675\n",
            "Epoch 13/20\n",
            "\u001b[1m109/109\u001b[0m \u001b[32m━━━━━━━━━━━━━━━━━━━━\u001b[0m\u001b[37m\u001b[0m \u001b[1m41s\u001b[0m 206ms/step - accuracy: 0.0969 - loss: 2.4710 - val_accuracy: 0.0987 - val_loss: 2.4680\n",
            "Epoch 14/20\n",
            "\u001b[1m109/109\u001b[0m \u001b[32m━━━━━━━━━━━━━━━━━━━━\u001b[0m\u001b[37m\u001b[0m \u001b[1m41s\u001b[0m 204ms/step - accuracy: 0.0970 - loss: 2.4747 - val_accuracy: 0.0987 - val_loss: 2.4670\n",
            "Epoch 15/20\n",
            "\u001b[1m109/109\u001b[0m \u001b[32m━━━━━━━━━━━━━━━━━━━━\u001b[0m\u001b[37m\u001b[0m \u001b[1m41s\u001b[0m 201ms/step - accuracy: 0.0965 - loss: 2.4746 - val_accuracy: 0.0987 - val_loss: 2.4672\n",
            "Epoch 16/20\n",
            "\u001b[1m109/109\u001b[0m \u001b[32m━━━━━━━━━━━━━━━━━━━━\u001b[0m\u001b[37m\u001b[0m \u001b[1m41s\u001b[0m 204ms/step - accuracy: 0.1017 - loss: 2.4731 - val_accuracy: 0.0987 - val_loss: 2.4667\n",
            "Epoch 17/20\n",
            "\u001b[1m109/109\u001b[0m \u001b[32m━━━━━━━━━━━━━━━━━━━━\u001b[0m\u001b[37m\u001b[0m \u001b[1m41s\u001b[0m 206ms/step - accuracy: 0.0974 - loss: 2.4746 - val_accuracy: 0.0987 - val_loss: 2.4666\n",
            "Epoch 18/20\n",
            "\u001b[1m109/109\u001b[0m \u001b[32m━━━━━━━━━━━━━━━━━━━━\u001b[0m\u001b[37m\u001b[0m \u001b[1m41s\u001b[0m 204ms/step - accuracy: 0.0996 - loss: 2.4726 - val_accuracy: 0.0987 - val_loss: 2.4666\n",
            "Epoch 19/20\n",
            "\u001b[1m109/109\u001b[0m \u001b[32m━━━━━━━━━━━━━━━━━━━━\u001b[0m\u001b[37m\u001b[0m \u001b[1m20s\u001b[0m 187ms/step - accuracy: 0.1059 - loss: 2.4722 - val_accuracy: 0.0987 - val_loss: 2.4665\n",
            "Epoch 20/20\n",
            "\u001b[1m109/109\u001b[0m \u001b[32m━━━━━━━━━━━━━━━━━━━━\u001b[0m\u001b[37m\u001b[0m \u001b[1m22s\u001b[0m 202ms/step - accuracy: 0.0957 - loss: 2.4729 - val_accuracy: 0.0987 - val_loss: 2.4664\n"
          ]
        }
      ]
    }
  ]
}